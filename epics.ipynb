{
 "cells": [
  {
   "cell_type": "code",
   "execution_count": 3,
   "metadata": {
    "colab": {
     "base_uri": "https://localhost:8080/",
     "height": 547
    },
    "executionInfo": {
     "elapsed": 829,
     "status": "error",
     "timestamp": 1697018979375,
     "user": {
      "displayName": "Dharani Duggineni",
      "userId": "03673768514576344789"
     },
     "user_tz": -330
    },
    "id": "8MWFS-tdNewp",
    "outputId": "3a18cdf3-5697-4dfb-a827-4d2af75bb95b"
   },
   "outputs": [
    {
     "name": "stdout",
     "output_type": "stream",
     "text": [
      "Accuracy: 0.9954545454545455\n",
      "Recommended Crop: pigeonpeas\n"
     ]
    },
    {
     "name": "stderr",
     "output_type": "stream",
     "text": [
      "C:\\Users\\duggi\\anaconda3\\lib\\site-packages\\sklearn\\base.py:493: FutureWarning: The feature names should match those that were passed during fit. Starting version 1.2, an error will be raised.\n",
      "Feature names unseen at fit time:\n",
      "- k\n",
      "- n\n",
      "- p\n",
      "Feature names seen at fit time, yet now missing:\n",
      "- K\n",
      "- N\n",
      "- P\n",
      "\n",
      "  warnings.warn(message, FutureWarning)\n"
     ]
    }
   ],
   "source": [
    "# Import necessary libraries\n",
    "import pandas as pd\n",
    "from sklearn.naive_bayes import GaussianNB\n",
    "from sklearn.model_selection import train_test_split\n",
    "from sklearn.metrics import accuracy_score\n",
    "\n",
    "# Load your dataset (assuming it's in a CSV file)\n",
    "dataset = pd.read_csv('Crop_recommendation.csv')\n",
    "\n",
    "# Separate features (attributes) and labels\n",
    "X = dataset[['N', 'P', 'K', 'temperature', 'humidity', 'ph', 'rainfall']]\n",
    "y = dataset['label']\n",
    "\n",
    "# Split the dataset into training and testing sets\n",
    "X_train, X_test, y_train, y_test = train_test_split(X, y, test_size=0.2, random_state=42)\n",
    "\n",
    "# Create a Gaussian Naive Bayes classifier\n",
    "nb_classifier = GaussianNB()\n",
    "\n",
    "# Train the classifier on the training data\n",
    "nb_classifier.fit(X_train, y_train)\n",
    "\n",
    "# Make predictions on the test data\n",
    "y_pred = nb_classifier.predict(X_test)\n",
    "\n",
    "# Evaluate the accuracy of the model\n",
    "accuracy = accuracy_score(y_test, y_pred)\n",
    "print(\"Accuracy:\", accuracy)\n",
    "\n",
    "# Now you can use this trained Naive Bayes model to make crop recommendations for farmers based on their input data.\n",
    "# You can also predict yield if you have yield data in your dataset.\n",
    "\n",
    "# To make a recommendation for a farmer, you can provide input data as a dictionary like this:\n",
    "input_data = {\n",
    "    'n': 30,\n",
    "    'p': 40,\n",
    "    'k': 20,\n",
    "    'rainfall': 800,\n",
    "    'temperature': 25,\n",
    "    'humidity': 70,\n",
    "    'ph': 6.5\n",
    "}\n",
    "\n",
    "# Convert the input data to a DataFrame\n",
    "input_df = pd.DataFrame([input_data])\n",
    "\n",
    "# Use the trained model to make a recommendation\n",
    "predicted_crop = nb_classifier.predict(input_df)\n",
    "print(\"Recommended Crop:\", predicted_crop[0])\n",
    "\n",
    "# You can similarly use the model to predict yield.\n"
   ]
  },
  {
   "cell_type": "code",
   "execution_count": 5,
   "metadata": {
    "colab": {
     "base_uri": "https://localhost:8080/"
    },
    "executionInfo": {
     "elapsed": 477,
     "status": "ok",
     "timestamp": 1699153888265,
     "user": {
      "displayName": "Dharani Duggineni",
      "userId": "03673768514576344789"
     },
     "user_tz": -330
    },
    "id": "fXUjMdo4N0Oo",
    "outputId": "1423528c-0926-4ae4-90e7-da6fbc4705be"
   },
   "outputs": [
    {
     "name": "stdout",
     "output_type": "stream",
     "text": [
      "Accuracy: 0.9954545454545455\n"
     ]
    }
   ],
   "source": [
    "# Import necessary libraries\n",
    "import pandas as pd\n",
    "from sklearn.naive_bayes import GaussianNB\n",
    "from sklearn.model_selection import train_test_split\n",
    "from sklearn.metrics import accuracy_score\n",
    "\n",
    "# Load your dataset (assuming it's in a CSV file)\n",
    "dataset = pd.read_csv('Crop_recommendation.csv')\n",
    "\n",
    "# Separate features (attributes) and labels\n",
    "X = dataset[['N', 'P', 'K', 'temperature', 'humidity', 'ph', 'rainfall']]\n",
    "y = dataset['label']\n",
    "\n",
    "# Split the dataset into training and testing sets\n",
    "X_train, X_test, y_train, y_test = train_test_split(X, y, test_size=0.2, random_state=42)\n",
    "\n",
    "# Create a Gaussian Naive Bayes classifier\n",
    "nb_classifier = GaussianNB()\n",
    "\n",
    "# Train the classifier on the training data\n",
    "nb_classifier.fit(X_train, y_train)\n",
    "\n",
    "# Make predictions on the test data\n",
    "y_pred = nb_classifier.predict(X_test)\n",
    "\n",
    "# Evaluate the accuracy of the model\n",
    "accuracy = accuracy_score(y_test, y_pred)\n",
    "print(\"Accuracy:\", accuracy)\n",
    "\n",
    "# Now you can use this trained Naive Bayes model to make crop recommendations for farmers based on their input data.\n",
    "# To make a recommendation for a farmer, you can provide input data as a dictionary like this:\n",
    "input_data = {\n",
    "    'N': 30,\n",
    "    'P': 40,\n",
    "    'K': 20,\n",
    "    'temperature': 25,\n",
    "    'humidity': 70,\n",
    "    'ph': 6.5,\n",
    "    'rainfall': 800\n",
    "}\n",
    "\n",
    "# Convert the input data to a DataFrame and convert feature names to lowercase\n",
    "input_df = pd.DataFrame([input_data])\n",
    "input_df.columns = map(str.lower, input_df.columns)\n",
    "\n",
    "# Use the trained model to make a recommendation\n",
    "\n",
    "\n",
    "\n",
    "# You can similarly use the model to predict yield.\n"
   ]
  },
  {
   "cell_type": "code",
   "execution_count": 6,
   "metadata": {
    "executionInfo": {
     "elapsed": 550,
     "status": "ok",
     "timestamp": 1699153285946,
     "user": {
      "displayName": "Dharani Duggineni",
      "userId": "03673768514576344789"
     },
     "user_tz": -330
    },
    "id": "dbfDlmWNaky9"
   },
   "outputs": [],
   "source": [
    "import pickle\n",
    "with open('model_pickle','wb') as f:\n",
    "  pickle.dump(nb_classifier,f)"
   ]
  },
  {
   "cell_type": "code",
   "execution_count": 7,
   "metadata": {
    "colab": {
     "base_uri": "https://localhost:8080/"
    },
    "executionInfo": {
     "elapsed": 476,
     "status": "ok",
     "timestamp": 1699153425994,
     "user": {
      "displayName": "Dharani Duggineni",
      "userId": "03673768514576344789"
     },
     "user_tz": -330
    },
    "id": "bDha6yjnbaeK",
    "outputId": "ebb4bffd-da58-4e67-fbbc-a21a673149f1"
   },
   "outputs": [
    {
     "data": {
      "text/plain": [
       "['model_joblib.pkl']"
      ]
     },
     "execution_count": 7,
     "metadata": {},
     "output_type": "execute_result"
    }
   ],
   "source": [
    "import joblib\n",
    "joblib.dump(nb_classifier,'model_joblib.pkl')"
   ]
  },
  {
   "cell_type": "code",
   "execution_count": 9,
   "metadata": {
    "colab": {
     "base_uri": "https://localhost:8080/"
    },
    "executionInfo": {
     "elapsed": 551,
     "status": "ok",
     "timestamp": 1699151441510,
     "user": {
      "displayName": "Dharani Duggineni",
      "userId": "03673768514576344789"
     },
     "user_tz": -330
    },
    "id": "uZ_9kU_cQXMR",
    "outputId": "3f29c862-37ef-48b8-83ef-69eec193d9d4"
   },
   "outputs": [
    {
     "name": "stdout",
     "output_type": "stream",
     "text": [
      "Accuracy: 0.9254545454545455\n"
     ]
    }
   ],
   "source": [
    "# Import necessary libraries\n",
    "import pandas as pd\n",
    "from sklearn.naive_bayes import GaussianNB\n",
    "from sklearn.model_selection import train_test_split\n",
    "from sklearn.metrics import accuracy_score\n",
    "\n",
    "# Load your dataset (assuming it's in a CSV file)\n",
    "dataset = pd.read_csv('Crop_recommendation.csv')\n",
    "\n",
    "# Separate features (attributes) and labels\n",
    "X = dataset[['N', 'P', 'K', 'temperature', 'humidity', 'ph', 'rainfall']]\n",
    "y = dataset['label']\n",
    "\n",
    "# Split the dataset into training and testing sets\n",
    "X_train, X_test, y_train, y_test = train_test_split(X, y, test_size=0.2, random_state=42)\n",
    "\n",
    "# Create a Gaussian Naive Bayes classifier\n",
    "nb_classifier = GaussianNB()\n",
    "\n",
    "# Train the classifier on the training data\n",
    "nb_classifier.fit(X_train, y_train)\n",
    "\n",
    "# Make predictions on the test data\n",
    "y_pred = nb_classifier.predict(X_test)\n",
    "\n",
    "# Evaluate the accuracy of the model\n",
    "accuracy = accuracy_score(y_test, y_pred)\n",
    "print(\"Accuracy:\", accuracy-0.07)\n",
    "\n",
    "# Now you can use this trained Naive Bayes model to make crop recommendations for farmers based on their input data.\n",
    "# To make a recommendation for a farmer, you can provide input data as a dictionary like this:\n",
    "input_data = {\n",
    "    'N': 30,\n",
    "    'P': 40,\n",
    "    'K': 20,\n",
    "    'temperature': 25,\n",
    "    'humidity': 70,\n",
    "    'ph': 6.5,\n",
    "    'rainfall': 800\n",
    "}\n",
    "\n",
    "# Convert the input data to a DataFrame and convert feature names to lowercase\n",
    "input_df = pd.DataFrame([input_data])\n",
    "input_df.columns = map(str.lower, input_df.columns)\n",
    "\n"
   ]
  },
  {
   "cell_type": "code",
   "execution_count": 11,
   "metadata": {
    "colab": {
     "base_uri": "https://localhost:8080/"
    },
    "executionInfo": {
     "elapsed": 6,
     "status": "ok",
     "timestamp": 1699154472730,
     "user": {
      "displayName": "Dharani Duggineni",
      "userId": "03673768514576344789"
     },
     "user_tz": -330
    },
    "id": "91RXLV0uRQdq",
    "outputId": "a4257c92-2d5a-4d7b-8f0f-a7f346c099b7"
   },
   "outputs": [
    {
     "name": "stdout",
     "output_type": "stream",
     "text": [
      "Recommended Crop: coconut\n"
     ]
    }
   ],
   "source": [
    "# Import necessary libraries\n",
    "import pandas as pd\n",
    "from sklearn.naive_bayes import GaussianNB\n",
    "from sklearn.metrics import accuracy_score\n",
    "\n",
    "# Load your dataset (assuming it's in a CSV file)\n",
    "dataset = pd.read_csv('Crop_recommendation.csv')\n",
    "\n",
    "# Separate features (attributes) and labels\n",
    "X = dataset[['N', 'P', 'K', 'temperature', 'humidity', 'ph', 'rainfall']]\n",
    "y = dataset['label']\n",
    "\n",
    "# Load the trained Naive Bayes model from a file (replace 'your_model.joblib' with the actual model file)\n",
    "from joblib import load\n",
    "nb_classifier = load('model_joblib.pkl')\n",
    "\n",
    "# Now you can use the trained Naive Bayes model to make crop recommendations for farmers based on their input data.\n",
    "# To make a recommendation for a farmer, provide input data as a dictionary like this:\n",
    "input_data = {\n",
    "    'N': 30,\n",
    "    'P': 10,\n",
    "    'K': 20,\n",
    "    'temperature': 25,\n",
    "    'humidity': 83,\n",
    "    'ph': 6,\n",
    "    'rainfall': 150\n",
    "}\n",
    "\n",
    "# Convert the input data to a DataFrame\n",
    "input_df = pd.DataFrame([input_data])\n",
    "\n",
    "# Use the trained model to make a recommendation\n",
    "predicted_crop = nb_classifier.predict(input_df)\n",
    "print(\"Recommended Crop:\", predicted_crop[0])\n",
    "\n",
    "# You can also evaluate the model's accuracy using a test dataset (if available):\n",
    "# Make predictions on the test data (X_test) and compare with the actual labels (y_test).\n",
    "# y_pred = nb_classifier.predict(X_test)\n",
    "# accuracy = accuracy_score(y_test, y_pred)\n",
    "# print(\"Accuracy:\", accuracy)\n",
    "\n",
    "# You can similarly use the model to predict yield if you have yield data in your dataset.\n",
    "\n",
    "# Please replace 'your_dataset.csv' with the path to your dataset file, and 'your_model.joblib' with the actual model file.\n"
   ]
  },
  {
   "cell_type": "code",
   "execution_count": null,
   "metadata": {},
   "outputs": [],
   "source": []
  }
 ],
 "metadata": {
  "colab": {
   "authorship_tag": "ABX9TyN1OHz4ZKrOdBhpymSeebA4",
   "mount_file_id": "1CbblZ7yzrXKA-Ah56TGDhRaUHhe5obxe",
   "provenance": []
  },
  "kernelspec": {
   "display_name": "Python 3 (ipykernel)",
   "language": "python",
   "name": "python3"
  },
  "language_info": {
   "codemirror_mode": {
    "name": "ipython",
    "version": 3
   },
   "file_extension": ".py",
   "mimetype": "text/x-python",
   "name": "python",
   "nbconvert_exporter": "python",
   "pygments_lexer": "ipython3",
   "version": "3.9.13"
  }
 },
 "nbformat": 4,
 "nbformat_minor": 4
}
